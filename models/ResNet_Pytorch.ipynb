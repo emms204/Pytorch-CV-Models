{
 "cells": [
  {
   "cell_type": "code",
   "execution_count": 1,
   "metadata": {},
   "outputs": [],
   "source": [
    "import torch\n",
    "from torch import Tensor\n",
    "import torch.nn as nn\n",
    "import torch.nn.functional as F\n",
    "from typing import Any, Callable, List, Optional, Tuple"
   ]
  },
  {
   "attachments": {},
   "cell_type": "markdown",
   "metadata": {},
   "source": [
    "CNN                 INCEPTION             RESNET ![Alt text](../images/Screenshot%20from%202023-03-24%2014-24-10.png)"
   ]
  },
  {
   "attachments": {},
   "cell_type": "markdown",
   "metadata": {},
   "source": [
    "Identity Block ![Alt text](../images/idblock.png)"
   ]
  },
  {
   "attachments": {},
   "cell_type": "markdown",
   "metadata": {},
   "source": [
    "Reduce Block ![Alt text](../images/reduceblock.png)"
   ]
  },
  {
   "cell_type": "code",
   "execution_count": 2,
   "metadata": {},
   "outputs": [],
   "source": [
    "class BasicConv2d(nn.Module):\n",
    "    def __init__(self, in_channels, out_channels, kernel_size, stride=1, padding=0, dilation=1, groups=1, bias=False):\n",
    "        super(BasicConv2d, self).__init__()\n",
    "        self.conv1 = nn.Conv2d(in_channels, out_channels, kernel_size=kernel_size,stride=stride,padding=padding,bias=bias)\n",
    "        self.norm = nn.BatchNorm2d(out_channels, eps=1e-05, momentum=0.1, affine=True, track_running_stats=True)\n",
    "\n",
    "    def forward(self,x):\n",
    "        x = self.conv1(x)\n",
    "        x = self.norm(x)\n",
    "        return x\n"
   ]
  },
  {
   "cell_type": "code",
   "execution_count": 3,
   "metadata": {},
   "outputs": [],
   "source": [
    "class BottleNeck(nn.Module):\n",
    "    def __init__(self, prev_channels, in_channels, out_channels, kernel_size=3, stride=2, padding=1, reduce=False):\n",
    "        super(BottleNeck, self).__init__()\n",
    "        self.reduce = reduce\n",
    "        \n",
    "        self.ReduceBlock1 = BasicConv2d(prev_channels, in_channels, kernel_size=1, stride=stride, padding=0)\n",
    "        self.ReduceBlock2 = BasicConv2d(prev_channels, out_channels, kernel_size=1, stride=stride, padding=0)\n",
    "\n",
    "        self.Block1 = BasicConv2d(prev_channels, in_channels, kernel_size=1, stride=1, padding=0)\n",
    "        self.Block2 = BasicConv2d(in_channels, in_channels, kernel_size=kernel_size, stride=1, padding=padding)\n",
    "        self.Block3 = BasicConv2d(in_channels, out_channels, kernel_size=1, stride=1, padding=0)\n",
    "        self.relu = nn.ReLU()\n",
    "        \n",
    "    def forward(self, x):\n",
    "        out = x\n",
    "        if self.reduce:\n",
    "            out = self.ReduceBlock1(x)\n",
    "            out = self.relu(out)\n",
    "            identity = self.ReduceBlock2(x)\n",
    "        else:\n",
    "            out = self.Block1(out)\n",
    "            out = self.relu(out)\n",
    "        out = self.Block2(out)\n",
    "        out = self.relu(out)\n",
    "        out = self.Block3(out)\n",
    "        if self.reduce:\n",
    "            out = self.relu(out+identity)\n",
    "        return out\n",
    "        "
   ]
  },
  {
   "attachments": {},
   "cell_type": "markdown",
   "metadata": {},
   "source": [
    "ResNet50 implementation with the following architecture: ![Alt text](../images/resnet_architectures.png)"
   ]
  },
  {
   "cell_type": "code",
   "execution_count": 4,
   "metadata": {},
   "outputs": [],
   "source": [
    "class ResNet(nn.Module):\n",
    "    def __init__(self, num_classes):\n",
    "        super(ResNet, self).__init__()\n",
    "\n",
    "        #Stage 1\n",
    "        self.conv1 = BasicConv2d(3, 64, 7, 2, 3)\n",
    "        self.pool1 = nn.MaxPool2d(kernel_size=3,stride=2)\n",
    "\n",
    "        #Stage 2\n",
    "        self.ResBlock2a = BottleNeck(64, 64, 256, 3, 1, 1, reduce=True)\n",
    "        self.ResBlock2b = BottleNeck(256, 64, 256, 3)\n",
    "        self.ResBlock2c = BottleNeck(256, 64, 256, 3)\n",
    "\n",
    "        #Stage 3\n",
    "        self.ResBlock3a = BottleNeck(256, 128, 512, 3, 2, 1, reduce=True)\n",
    "        self.ResBlock3b = BottleNeck(512, 128, 512, 3)\n",
    "        self.ResBlock3c = BottleNeck(512, 128, 512, 3)\n",
    "        self.ResBlock3d = BottleNeck(512, 128, 512, 3)\n",
    "\n",
    "        #Stage 4\n",
    "        self.ResBlock4a = BottleNeck(512, 256, 1024, 3, 2, 1, reduce=True)\n",
    "        self.ResBlock4b = BottleNeck(1024, 256, 1024, 3)\n",
    "        self.ResBlock4c = BottleNeck(1024, 256, 1024, 3)\n",
    "        self.ResBlock4d = BottleNeck(1024, 256, 1024, 3)\n",
    "        self.ResBlock4e = BottleNeck(1024, 256, 1024, 3)\n",
    "        self.ResBlock4f = BottleNeck(1024, 256, 1024, 3)\n",
    "\n",
    "        #Stage 5\n",
    "        self.ResBlock5a = BottleNeck(1024, 512, 2048, 3, 2, 1, reduce=True)\n",
    "        self.ResBlock5b = BottleNeck(2048, 512, 2048, 3)\n",
    "        self.ResBlock5c = BottleNeck(2048, 512, 2048, 3)\n",
    "\n",
    "        self.avgpool = nn.AdaptiveAvgPool2d((1,1))\n",
    "        self.fc = nn.Linear(2048, num_classes)\n",
    "        self.classifier = nn.Softmax(dim=1)\n",
    "\n",
    "    def forward(self, x):\n",
    "        x = self.conv1(x)\n",
    "        x = self.pool1(x)\n",
    "        x = self.ResBlock2a(x)\n",
    "        x = self.ResBlock2b(x)\n",
    "        x = self.ResBlock2c(x)\n",
    "        x = self.ResBlock3a(x)\n",
    "        x = self.ResBlock3b(x)\n",
    "        x = self.ResBlock3c(x)\n",
    "        x = self.ResBlock3d(x)\n",
    "        x = self.ResBlock4a(x)\n",
    "        x = self.ResBlock4b(x)\n",
    "        x = self.ResBlock4c(x)\n",
    "        x = self.ResBlock4d(x)\n",
    "        x = self.ResBlock4e(x)\n",
    "        x = self.ResBlock4f(x)\n",
    "        x = self.ResBlock5a(x)\n",
    "        x = self.ResBlock5b(x)\n",
    "        x = self.ResBlock5c(x)\n",
    "        x = self.avgpool(x)\n",
    "        x = torch.flatten(x, 1)\n",
    "        x = self.classifier(x)\n",
    "        return x\n",
    "\n"
   ]
  },
  {
   "cell_type": "code",
   "execution_count": 5,
   "metadata": {},
   "outputs": [
    {
     "name": "stdout",
     "output_type": "stream",
     "text": [
      "torch.Size([1, 2048])\n"
     ]
    }
   ],
   "source": [
    "resnet = ResNet(1000)\n",
    "x = torch.randn(1,3,224,224)\n",
    "output = resnet(x)\n",
    "print(output.shape)"
   ]
  },
  {
   "cell_type": "code",
   "execution_count": null,
   "metadata": {},
   "outputs": [],
   "source": []
  }
 ],
 "metadata": {
  "kernelspec": {
   "display_name": "Python 3",
   "language": "python",
   "name": "python3"
  },
  "language_info": {
   "codemirror_mode": {
    "name": "ipython",
    "version": 3
   },
   "file_extension": ".py",
   "mimetype": "text/x-python",
   "name": "python",
   "nbconvert_exporter": "python",
   "pygments_lexer": "ipython3",
   "version": "3.9.13"
  },
  "orig_nbformat": 4
 },
 "nbformat": 4,
 "nbformat_minor": 2
}
