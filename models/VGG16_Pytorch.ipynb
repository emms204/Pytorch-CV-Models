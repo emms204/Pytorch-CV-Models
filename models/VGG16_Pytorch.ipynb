{
 "cells": [
  {
   "cell_type": "code",
   "execution_count": 1,
   "metadata": {},
   "outputs": [],
   "source": [
    "import torch\n",
    "import torch.nn as nn\n",
    "import torch.nn.functional as F"
   ]
  },
  {
   "cell_type": "code",
   "execution_count": 2,
   "metadata": {},
   "outputs": [],
   "source": [
    "def convblock(in_channels, out_channels,kernel_size=3,stride=1,padding=1,size=2):\n",
    "    conv_layers = nn.ModuleList()\n",
    "    for i in range(size):\n",
    "        conv_layers.append(nn.Conv2d(in_channels, out_channels,kernel_size=3,stride=1,padding=1))\n",
    "        conv_layers.append(nn.ReLU())\n",
    "        in_channels = out_channels\n",
    "    conv_layers.append(nn.MaxPool2d(kernel_size=2,stride=2))\n",
    "    return conv_layers"
   ]
  },
  {
   "cell_type": "code",
   "execution_count": 3,
   "metadata": {},
   "outputs": [],
   "source": [
    "def linearblock(in_features, out_features,size=2):\n",
    "    linear_layers = nn.ModuleList()\n",
    "    for i in range(size-1):\n",
    "        linear_layers.append(nn.Linear(in_features,out_features))\n",
    "        linear_layers.append(nn.Dropout(p=0.5))\n",
    "        in_features = out_features\n",
    "    linear_layers.append(nn.Linear(out_features, 1000))\n",
    "    linear_layers.append(nn.Softmax(dim=1))\n",
    "    return linear_layers\n",
    "        "
   ]
  },
  {
   "cell_type": "code",
   "execution_count": 4,
   "metadata": {},
   "outputs": [],
   "source": [
    "class vgg16(nn.Module):\n",
    "    def __init__(self):\n",
    "        super(vgg16, self).__init__()\n",
    "        self.block1 = convblock(3,64,size=2) # First Block\n",
    "        self.block2 = convblock(64,128,size=2) # Second Block\n",
    "        self.block3 = convblock(128,256,size=3) # Third Block\n",
    "        self.block4 = convblock(256,512,size=3) # Fourth Block\n",
    "        self.block5 = convblock(512,512,size=3) # Fifth Block\n",
    "        self.pool = nn.AdaptiveAvgPool2d((7,7))\n",
    "        self.classifier = linearblock(7*7*512,4096,size=3)\n",
    "\n",
    "    def forward(self, x):\n",
    "        blocks = [self.block1, self.block2, self.block3, self.block4, self.block5]\n",
    "        for block in blocks:\n",
    "            for layer in block:\n",
    "                x = layer(x)\n",
    "        x = self.pool(x)\n",
    "        x = x.view(-1, 7*7*512)\n",
    "        for layer in self.classifier:\n",
    "            x = layer(x)\n",
    "        return x\n",
    "\n"
   ]
  },
  {
   "cell_type": "code",
   "execution_count": 5,
   "metadata": {},
   "outputs": [],
   "source": [
    "model_vgg = vgg16()"
   ]
  },
  {
   "cell_type": "code",
   "execution_count": 6,
   "metadata": {},
   "outputs": [
    {
     "data": {
      "text/plain": [
       "torch.Size([4, 1000])"
      ]
     },
     "execution_count": 6,
     "metadata": {},
     "output_type": "execute_result"
    }
   ],
   "source": [
    "x = torch.randn(4,3,224,224)\n",
    "output = model_vgg(x)\n",
    "output.shape"
   ]
  },
  {
   "cell_type": "code",
   "execution_count": 7,
   "metadata": {},
   "outputs": [],
   "source": [
    "class vgg19(nn.Module):\n",
    "    def __init__(self):\n",
    "        super(vgg19, self).__init__()\n",
    "        self.block1 = convblock(3,64,size=2) # First Block\n",
    "        self.block2 = convblock(64,128,size=2) # Second Block\n",
    "        self.block3 = convblock(128,256,size=4) # Third Block\n",
    "        self.block4 = convblock(256,512,size=4) # Fourth Block\n",
    "        self.block5 = convblock(512,512,size=4) # Fifth Block\n",
    "        self.pool = nn.AdaptiveAvgPool2d((7,7))\n",
    "        self.classifier = linearblock(7*7*512,4096,size=3)\n",
    "\n",
    "    def forward(self, x):\n",
    "        blocks = [self.block1, self.block2, self.block3, self.block4, self.block5]\n",
    "        for block in blocks:\n",
    "            for layer in block:\n",
    "                x = layer(x)\n",
    "        x = self.pool(x)\n",
    "        x = x.view(-1, 7*7*512)\n",
    "        for layer in self.classifier:\n",
    "            x = layer(x)\n",
    "        return x\n",
    "\n"
   ]
  },
  {
   "cell_type": "code",
   "execution_count": 8,
   "metadata": {},
   "outputs": [],
   "source": [
    "model_vgg19 = vgg19()"
   ]
  },
  {
   "cell_type": "code",
   "execution_count": 9,
   "metadata": {},
   "outputs": [
    {
     "data": {
      "text/plain": [
       "torch.Size([4, 1000])"
      ]
     },
     "execution_count": 9,
     "metadata": {},
     "output_type": "execute_result"
    }
   ],
   "source": [
    "x = torch.randn(4,3,224,224)\n",
    "output = model_vgg19(x)\n",
    "output.shape"
   ]
  },
  {
   "cell_type": "code",
   "execution_count": null,
   "metadata": {},
   "outputs": [],
   "source": []
  }
 ],
 "metadata": {
  "kernelspec": {
   "display_name": "base",
   "language": "python",
   "name": "python3"
  },
  "language_info": {
   "codemirror_mode": {
    "name": "ipython",
    "version": 3
   },
   "file_extension": ".py",
   "mimetype": "text/x-python",
   "name": "python",
   "nbconvert_exporter": "python",
   "pygments_lexer": "ipython3",
   "version": "3.9.13"
  },
  "orig_nbformat": 4
 },
 "nbformat": 4,
 "nbformat_minor": 2
}
